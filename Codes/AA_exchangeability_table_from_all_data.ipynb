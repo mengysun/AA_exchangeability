{
 "cells": [
  {
   "cell_type": "code",
   "execution_count": 1,
   "id": "ae4607ff",
   "metadata": {},
   "outputs": [],
   "source": [
    "import pandas as pd\n",
    "import re\n",
    "import glob\n",
    "import os\n",
    "from scipy import stats\n",
    "import numpy as np\n",
    "from scipy.optimize import minimize \n",
    "from scipy.optimize import newton"
   ]
  },
  {
   "cell_type": "code",
   "execution_count": 2,
   "id": "640e9934",
   "metadata": {},
   "outputs": [],
   "source": [
    "d = {'Cys': 'C', 'Asp': 'D', 'Ser': 'S', 'Gln': 'Q', 'Lys': 'K',\n",
    "     'Ile': 'I', 'Pro': 'P', 'Thr': 'T', 'Phe': 'F', 'Asn': 'N', \n",
    "     'Gly': 'G', 'His': 'H', 'Leu': 'L', 'Arg': 'R', 'Trp': 'W', \n",
    "     'Ala': 'A', 'Val':'V', 'Glu': 'E', 'Tyr': 'Y', 'Met': 'M'}\n",
    "d2=dict((v, k) for k, v in d.items())"
   ]
  },
  {
   "cell_type": "code",
   "execution_count": 3,
   "id": "0d52979d",
   "metadata": {},
   "outputs": [],
   "source": [
    "def truncated_mean(lam):\n",
    "    mu=(1/lam-np.exp(-lam)*(1+1/lam))/(1-np.exp(-lam))\n",
    "    return mu\n",
    "def equation(lam, given_mu):\n",
    "    return truncated_mean(lam) - given_mu\n",
    "\n",
    "def truncated_expo_density(x, lmbda):\n",
    "    return lmbda * np.exp(-lmbda * x) / (1 - np.exp(-lmbda))\n",
    "\n",
    "def truncated_expo_cdf(x, lmbda):\n",
    "    return (1 - np.exp(-lmbda * x)) / (1 - np.exp(-lmbda))"
   ]
  },
  {
   "cell_type": "code",
   "execution_count": 4,
   "id": "8a399d4e",
   "metadata": {},
   "outputs": [],
   "source": [
    "#read in all deep mutational files\n",
    "path = '../Data/ProteinGym_substitutions/'\n",
    "DMS_files=glob.glob(os.path.join(path, '*.csv'))\n",
    "\n",
    "all_dms=[]\n",
    "i=0\n",
    "for f in DMS_files:\n",
    "    dms=pd.read_csv(f)\n",
    "    dms['mut_type']=dms['mutant'].str.replace(r'\\d+', '', regex=True)\n",
    "    dms['mut_type_len']=dms['mut_type'].str.len()\n",
    "    dms=dms[dms['mut_type_len']==2]\n",
    "    dms['fit_rank_all']=dms['DMS_score'].rank(pct=True)\n",
    "    all_dms.append(dms)\n",
    "    i=i+1\n",
    "all_dms=pd.concat(all_dms)"
   ]
  },
  {
   "cell_type": "code",
   "execution_count": 5,
   "id": "61dca69d",
   "metadata": {},
   "outputs": [],
   "source": [
    "#pre-process data frame\n",
    "AA_list=['Arg','Lys','Gln','Glu','Asp',\n",
    "         'Asn','His','Ser','Thr','Ala',\n",
    "         'Val','Ile','Leu','Met','Pro',\n",
    "         'Gly','Tyr','Phe','Trp','Cys']\n",
    "aa_list=[d[a] for a in AA_list]"
   ]
  },
  {
   "cell_type": "code",
   "execution_count": 6,
   "id": "d68ead4e",
   "metadata": {},
   "outputs": [],
   "source": [
    "all_dms['AA1']=all_dms['mut_type'].str[0]\n",
    "all_dms['AA2']=all_dms['mut_type'].str[1]"
   ]
  },
  {
   "cell_type": "code",
   "execution_count": 7,
   "id": "48697f32",
   "metadata": {},
   "outputs": [],
   "source": [
    "aa_pair=[]\n",
    "lmbda_list=[]\n",
    "for i in range(20):\n",
    "    for j in range(20):\n",
    "        if i!=j:\n",
    "            data = all_dms[(all_dms['AA1']==aa_list[i])&(all_dms['AA2']==aa_list[j])]\n",
    "            given_mu=np.mean(data.fit_rank_all.tolist())\n",
    "            # Extract the lambda parameter that maximizes the likelihood\n",
    "            lmbda_opt = newton(equation, 1, args=(given_mu,))\n",
    "            lmbda_list.append(lmbda_opt)\n",
    "            aa_pair.append(aa_list[i]+'-'+aa_list[j])\n",
    "            "
   ]
  },
  {
   "cell_type": "code",
   "execution_count": 8,
   "id": "28c926b7",
   "metadata": {},
   "outputs": [],
   "source": [
    "df_exchangeability=pd.DataFrame({\"AA_pair\":aa_pair,\n",
    "                                 \"lambda\":lmbda_list})"
   ]
  },
  {
   "cell_type": "code",
   "execution_count": 10,
   "id": "82620aab",
   "metadata": {},
   "outputs": [],
   "source": [
    "df_exchangeability.to_csv('../exchangeability_table.csv',index=False)"
   ]
  }
 ],
 "metadata": {
  "kernelspec": {
   "display_name": "Anaconda3 (Python 3.7.6)",
   "language": "python",
   "name": "anaconda3_2020.02"
  },
  "language_info": {
   "codemirror_mode": {
    "name": "ipython",
    "version": 3
   },
   "file_extension": ".py",
   "mimetype": "text/x-python",
   "name": "python",
   "nbconvert_exporter": "python",
   "pygments_lexer": "ipython3",
   "version": "3.7.6"
  }
 },
 "nbformat": 4,
 "nbformat_minor": 5
}
