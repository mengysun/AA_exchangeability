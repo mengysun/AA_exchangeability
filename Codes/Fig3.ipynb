{
 "cells": [
  {
   "cell_type": "code",
   "execution_count": 1,
   "id": "4bafe01f",
   "metadata": {},
   "outputs": [],
   "source": [
    "import numpy as np\n",
    "import matplotlib.pyplot as plt\n",
    "import matplotlib.patches as patches\n",
    "from scipy.optimize import minimize \n",
    "from scipy.optimize import newton\n",
    "from scipy import stats\n",
    "import glob\n",
    "import os\n",
    "import pandas as pd\n",
    "from scipy.stats import gaussian_kde"
   ]
  },
  {
   "cell_type": "code",
   "execution_count": 2,
   "id": "7cb34c83",
   "metadata": {},
   "outputs": [],
   "source": [
    "colors = {\n",
    "        \"dark_purple\": \"#5F2E88\",\n",
    "        \"purple\": \"#7E59A2\",\n",
    "        \"light_purple\": \"#A17DB8\",\n",
    "        \"pale_purple\": \"#dfd6e5\",\n",
    "        \"dark_orange\": \"#F38227\",\n",
    "        \"orange\": \"#E39943\",\n",
    "        \"light_orange\": \"#EEBA7F\",\n",
    "        \"pale_orange\": \"#f2d4b6\",\n",
    "        \"dark_blue\": \"#3F60AC\",\n",
    "        \"blue\": \"#7292C7\",\n",
    "        \"light_blue\": \"#A5B3CC\",\n",
    "        \"pale_blue\": \"#dae4f1\",\n",
    "        \"dark_red\": \"#9C372F\",\n",
    "        \"red\": \"#C76A6A\",\n",
    "        \"light_red\": \"#E39C9D\",\n",
    "        \"pale_red\": \"#edcccc\",\n",
    "        \"dark_green\": \"#395A34\",\n",
    "        \"green\": \"#688A2F\",\n",
    "        \"light_green\": \"#B3CD86\",\n",
    "        \"pale_green\": \"#d8e2c3\",\n",
    "        \"dark_brown\": \"#764f2a\",\n",
    "        \"brown\": \"#c2996c\",\n",
    "        \"light_brown\": \"#e1bb96\",\n",
    "        \"pale_brown\": \"#efccaf\",\n",
    "        \"black\": \"#444147\",\n",
    "        \"light_grey\": \"#EFEFEF\",\n",
    "        \"light_gray\": \"#EFEFEF\",\n",
    "        \"grey\": \"#6D6F72\",\n",
    "        \"gray\": \"#6D6F72\",\n",
    "}"
   ]
  },
  {
   "cell_type": "code",
   "execution_count": 3,
   "id": "9941a862",
   "metadata": {},
   "outputs": [],
   "source": [
    "# Function to generate truncated exponential\n",
    "def truncated_mean(lam):\n",
    "    mu=(1/lam-np.exp(-lam)*(1+1/lam))/(1-np.exp(-lam))\n",
    "    return mu\n",
    "\n",
    "def equation(lam, given_mu):\n",
    "    return truncated_mean(lam) - given_mu\n",
    "\n",
    "\n",
    "def truncated_expo_pdf(x, lmbda):\n",
    "    return lmbda * np.exp(-lmbda * x) / (1 - np.exp(-lmbda))\n",
    "\n",
    "def truncated_expo_cdf(x, lmbda):\n",
    "    return (1 - np.exp(-lmbda * x)) / (1 - np.exp(-lmbda))"
   ]
  },
  {
   "cell_type": "code",
   "execution_count": 4,
   "id": "8a930d0f",
   "metadata": {},
   "outputs": [
    {
     "data": {
      "image/png": "[encoded data removed]",
      "text/plain": [
       "<Figure size 720x720 with 1 Axes>"
      ]
     },
     "metadata": {
      "needs_background": "light"
     },
     "output_type": "display_data"
    }
   ],
   "source": [
    "#Figure 3a\n",
    "lmbda1 = newton(equation, 1, args=(0.4,))\n",
    "lmbda2 = newton(equation, 1, args=(0.6,))\n",
    "\n",
    "# Create a new figure and a subplot\n",
    "fig, ax = plt.subplots(figsize=(10, 10))\n",
    "\n",
    "# Define trapezoid parameters\n",
    "trapezoids = [\n",
    "    {'bottom_width': 1, 'lmbda': lmbda1, 'global_ka_ks': 0.10, 'ki_ks': 0.05,'mu':0.4},\n",
    "    {'bottom_width': 1, 'lmbda': lmbda2, 'global_ka_ks': 0.10, 'ki_ks': 0.15,'mu':0.6}\n",
    "]\n",
    "\n",
    "# Separation line at x=0.9\n",
    "separation_x = 0.9\n",
    "edge_width = 5\n",
    "# Draw trapezoids with exponential top\n",
    "for i, trap in enumerate(trapezoids):\n",
    "    # Define the range for the x-axis\n",
    "    x = np.linspace(0, trap['bottom_width'], 100)\n",
    "    y = truncated_expo_pdf(x, trap['lmbda'])\n",
    "    \n",
    "    # Normalize y to the height of the trapezoid and adjust vertical positioning\n",
    "    #y_scale = 0.5  # Scale for the height of the trapezoid\n",
    "    #y_position_offset = 1.0 - i * 0.6  # Adjusted to reduce vertical spacing\n",
    "    #y = y / max(y) * y_scale + y_position_offset\n",
    "\n",
    "    # Draw the bottom line of the trapezoid\n",
    "    #bottom_line_y = y_position_offset\n",
    "\n",
    "    # Normalize y to the height of the trapezoid\n",
    "    y_height = (1 - i) * 0.8  # Adjust for vertical positioning\n",
    "    y = y / max(y) * 0.5 + (1 - i) * 0.8  # Scale and position the trapezoid vertically\n",
    "\n",
    "    # Draw the bottom line of the trapezoid\n",
    "    bottom_line_y = (1 - i) * 1.2\n",
    "    # Find the index where x is approximately 0.9 for separation\n",
    "    sep_index = np.argmin(np.abs(x - separation_x))\n",
    "    sep_x = x[sep_index]  # This ensures that we are exactly at the separation point\n",
    "\n",
    "    # Fill the areas with two different colors\n",
    "    ax.fill_between(x, y, y_height, where=(x <= sep_x), color='lightgray')\n",
    "    ax.fill_between(x, y, y_height, where=(x >= sep_x), color='gray')\n",
    "    # Draw the bottom line of the trapezoid\n",
    "    #ax.hlines(y_height, x[0], x[-1], color='black')\n",
    "\n",
    "    # Fill the areas with two different colors\n",
    "    #ax.fill_between(x[:sep_index], y[:sep_index], y_height, color=colors['light_gray'])\n",
    "    #ax.fill_between(x[sep_index:], y[sep_index:], y_height, color=colors['gray'])\n",
    "    # Draw the edges\n",
    "    ax.plot(x, y, color='black', linewidth=edge_width)\n",
    "    #ax.hlines(bottom_line_y, x[0], x[-1], color='black', linewidth=edge_width)\n",
    "\n",
    "    # Annotate the trapezoid with its parameters\n",
    "    #ax.text(0.4, bottom_line_y + 0.4, f\"μ = {trap['mu']}\", \n",
    "    #        va='bottom', ha='left', fontsize=30)\n",
    "\n",
    "# Set the limits of the plot\n",
    "ax.set_xlim(0, 1)\n",
    "ax.set_ylim(0, 1.35)\n",
    "\n",
    "# Hide the axes\n",
    "ax.axis('off')\n",
    "\n",
    "# Add labels\n",
    "ax.text(0.5, -0.2, 'Fitness quantile', ha='center', va='center', fontsize=30)\n",
    "ax.text(-0.1, 0.6, 'Probability density', rotation=90, ha='center', va='center', fontsize=30)\n",
    "# Display the plot\n",
    "plt.show()"
   ]
  },
  {
   "cell_type": "code",
   "execution_count": 5,
   "id": "ff08d4fa",
   "metadata": {},
   "outputs": [],
   "source": [
    "#Figure 3b\n",
    "#read in all deep mutational files\n",
    "np.random.seed(0)\n",
    "path = '../Data/ProteinGym_substitutions/'\n",
    "DMS_files=glob.glob(os.path.join(path, '*.csv'))\n",
    "\n",
    "all_dms=[]\n",
    "i=0\n",
    "for f in DMS_files:\n",
    "    dms=pd.read_csv(f)\n",
    "    dms['mut_type']=dms['mutant'].str.replace('\\d+','')\n",
    "    dms['mut_type_len']=dms['mut_type'].str.len()\n",
    "    dms=dms[dms['mut_type_len']==2]\n",
    "    dms['fit_rank']=dms['DMS_score'].rank(pct=True)\n",
    "    dms['pid']=i\n",
    "    most_ties_number=pd.DataFrame(dms.DMS_score.value_counts()).reset_index()['index'][0]\n",
    "    dms['f_ties']=np.mean(dms['DMS_score']==most_ties_number)\n",
    "    dms['size']=len(dms)\n",
    "    dms['mut_type_count']=len(dms.mut_type.unique().tolist())\n",
    "    all_dms.append(dms)\n",
    "    i=i+1\n",
    "all_dms=pd.concat(all_dms)"
   ]
  },
  {
   "cell_type": "code",
   "execution_count": 6,
   "id": "97350dba",
   "metadata": {},
   "outputs": [],
   "source": [
    "#look at all pairs\n",
    "np.random.seed(0)\n",
    "AA_pairs=all_dms.mut_type.unique().tolist()\n",
    "pid_for_test=all_dms[all_dms['mut_type_count']==380].pid.unique().tolist()\n",
    "D=[]\n",
    "p=[]\n",
    "sample_size=[]\n",
    "lambda_list=[]\n",
    "mu=[]\n",
    "for ap in AA_pairs:\n",
    "    data = all_dms[all_dms['mut_type']==ap]\n",
    "    data_array=np.array(data.fit_rank.tolist())\n",
    "    sample_size.append(len(data_array))\n",
    "    given_mu=np.mean(data_array)\n",
    "    mu.append(given_mu)\n",
    "    # Extract the lambda parameter that maximizes the likelihood\n",
    "    lmbda_opt = newton(equation, 1, args=(given_mu,))\n",
    "    lambda_list.append(lmbda_opt)\n",
    "    Di,pi=stats.kstest(data_array, truncated_expo_cdf, args=(lmbda_opt,))\n",
    "    D.append(Di)\n",
    "    p.append(pi)"
   ]
  },
  {
   "cell_type": "code",
   "execution_count": 7,
   "id": "29fd33a8",
   "metadata": {},
   "outputs": [],
   "source": [
    "df_MLEfit_plot=pd.DataFrame({'mut_type':AA_pairs, 'D':D, 'p':p, \n",
    "                             'sample_size':sample_size, \n",
    "                             'lmbda':lambda_list,\n",
    "                             'mu':mu})\n",
    "\n",
    "df_MLEfit_plot['Bonferroni_p']=df_MLEfit_plot['p']*380"
   ]
  },
  {
   "cell_type": "code",
   "execution_count": 8,
   "id": "2de97539",
   "metadata": {},
   "outputs": [],
   "source": [
    "#get Tang's U\n",
    "d = {'CYS': 'C', 'ASP': 'D', 'SER': 'S', 'GLN': 'Q', 'LYS': 'K',\n",
    "     'ILE': 'I', 'PRO': 'P', 'THR': 'T', 'PHE': 'F', 'ASN': 'N', \n",
    "     'GLY': 'G', 'HIS': 'H', 'LEU': 'L', 'ARG': 'R', 'TRP': 'W', \n",
    "     'ALA': 'A', 'VAL':'V', 'GLU': 'E', 'TYR': 'Y', 'MET': 'M'}\n",
    "aa_reachable=pd.read_csv('../Data/Mutally_reachable_aa.csv')\n",
    "aa_reachable=aa_reachable[['AA1','AA2','U (Universal EI)']]\n",
    "aa_reachable.columns=['AA1','AA2','U']\n",
    "\n",
    "aa_reachable['AA1']=aa_reachable['AA1'].str.upper()\n",
    "\n",
    "aa_reachable['AA2']=aa_reachable['AA2'].str.upper()\n",
    "\n",
    "AA1=aa_reachable.AA1.tolist()\n",
    "AA2=aa_reachable.AA2.tolist()\n",
    "aa1=[]\n",
    "aa2=[]\n",
    "for i in range(len(AA1)):\n",
    "    aa1.append(d[AA1[i]])\n",
    "    aa2.append(d[AA2[i]])\n",
    "aa_reachable['aa1']=aa1\n",
    "aa_reachable['aa2']=aa2\n",
    "\n",
    "aa_reachable['pair1']=aa_reachable['aa1']+aa_reachable['aa2']\n",
    "aa_reachable['pair2']=aa_reachable['aa2']+aa_reachable['aa1']"
   ]
  },
  {
   "cell_type": "code",
   "execution_count": 9,
   "id": "1e89407e",
   "metadata": {},
   "outputs": [],
   "source": [
    "def dynamic_range(c):\n",
    "    df_MLEfit_plot['dms_exchange']=1-truncated_expo_cdf(c,df_MLEfit_plot['lmbda'])\n",
    "    aa_reachable_tmp=aa_reachable.merge(df_MLEfit_plot[['mut_type','dms_exchange','mu']],\n",
    "                                how='left',left_on='pair1',right_on='mut_type')\n",
    "\n",
    "    aa_reachable_tmp=aa_reachable_tmp.drop(columns='mut_type')\n",
    "    aa_reachable_tmp=aa_reachable_tmp.rename(columns={'dms_exchange':'Q12',\n",
    "                                          'mu':'mu12'})\n",
    "    aa_reachable_tmp=aa_reachable_tmp.merge(df_MLEfit_plot[['mut_type','dms_exchange','mu']],\n",
    "                                how='left',left_on='pair2',right_on='mut_type')\n",
    "\n",
    "    aa_reachable_tmp=aa_reachable_tmp.drop(columns='mut_type')\n",
    "    aa_reachable_tmp=aa_reachable_tmp.rename(columns={'dms_exchange':'Q21',\n",
    "                                          'mu':'mu21'})\n",
    "    aa_reachable_tmp['predictU']=(aa_reachable_tmp['Q12']*aa_reachable_tmp['Q21'])/(aa_reachable_tmp['Q12']+aa_reachable_tmp['Q21'])\n",
    "    return aa_reachable_tmp.predictU.max()/aa_reachable_tmp.predictU.min()"
   ]
  },
  {
   "cell_type": "code",
   "execution_count": 10,
   "id": "dbeef696",
   "metadata": {},
   "outputs": [],
   "source": [
    "cutoff = np.linspace(0.01,0.99999,100)"
   ]
  },
  {
   "cell_type": "code",
   "execution_count": 11,
   "id": "9e2246e0",
   "metadata": {},
   "outputs": [],
   "source": [
    "dynamic_range_list=[]\n",
    "for c in cutoff:\n",
    "    dynamic_range_list.append(dynamic_range(c))"
   ]
  },
  {
   "cell_type": "code",
   "execution_count": 12,
   "id": "81940bb7",
   "metadata": {},
   "outputs": [
    {
     "data": {
      "image/png": "[encoded data removed]",
      "text/plain": [
       "<Figure size 720x720 with 1 Axes>"
      ]
     },
     "metadata": {
      "needs_background": "light"
     },
     "output_type": "display_data"
    }
   ],
   "source": [
    "plt.figure(figsize=(10, 10))\n",
    "plt.plot(cutoff,dynamic_range_list,color=colors['black'],linewidth=5)\n",
    "# Draw a horizontal line at y=U dynamic range\n",
    "plt.axhline(y=aa_reachable.U.max()/aa_reachable.U.min(), color=colors['black'], linestyle='--',linewidth=5)\n",
    "#plt.text(0.8, aa_reachable.U.max()/aa_reachable.U.min()-0.3, 'Dynamic range of Tang\\'s U', fontsize=30, va='center', ha='right')\n",
    "plt.xlabel('Selection Stringency q',fontsize=30,labelpad=20)\n",
    "plt.ylabel('Dynamic Range',fontsize=30,labelpad=20)\n",
    "plt.xticks(fontsize=30)        # Adjust tick label size\n",
    "plt.yticks(fontsize=30)\n",
    "#plt.legend()\n",
    "plt.grid(False)\n",
    "#plt.gca().set_facecolor(colors['light_gray'])\n",
    "#plt.box(False)\n",
    "ax = plt.gca()  # Get the current Axes instance\n",
    "ax.spines['right'].set_visible(False)\n",
    "ax.spines['top'].set_visible(False)\n",
    "ax.spines['left'].set_linewidth(5)  # Thicker y-axis\n",
    "ax.spines['bottom'].set_linewidth(5)  # Thicker x-axis\n",
    "# Make ticks thicker, longer, and pointing inward\n",
    "ax.tick_params(axis='both', direction='out', length=10, width=3, labelsize=30)"
   ]
  },
  {
   "cell_type": "code",
   "execution_count": 13,
   "id": "4b87b995",
   "metadata": {},
   "outputs": [],
   "source": [
    "#Fig3c"
   ]
  },
  {
   "cell_type": "code",
   "execution_count": 14,
   "id": "74ea767d",
   "metadata": {},
   "outputs": [],
   "source": [
    "#read in all deep mutational files\n",
    "np.random.seed(0)\n",
    "path = '../Data/ProteinGym_substitutions/'\n",
    "DMS_files=glob.glob(os.path.join(path, '*.csv'))\n",
    "\n",
    "all_dms=[]\n",
    "i=0\n",
    "for f in DMS_files:\n",
    "    dms=pd.read_csv(f)\n",
    "    dms['mut_type']=dms['mutant'].str.replace('\\d+','')\n",
    "    dms['mut_type_len']=dms['mut_type'].str.len()\n",
    "    dms=dms[dms['mut_type_len']==2]\n",
    "    dms['fit_rank']=dms['DMS_score'].rank(pct=True)\n",
    "    dms['pid']=i\n",
    "    most_ties_number=pd.DataFrame(dms.DMS_score.value_counts()).reset_index()['index'][0]\n",
    "    dms['f_ties']=np.mean(dms['DMS_score']==most_ties_number)\n",
    "    dms['size']=len(dms)\n",
    "    dms['mut_type_count']=len(dms.mut_type.unique().tolist())\n",
    "    all_dms.append(dms)\n",
    "    i=i+1\n",
    "all_dms=pd.concat(all_dms)"
   ]
  },
  {
   "cell_type": "code",
   "execution_count": 15,
   "id": "d9f79028",
   "metadata": {},
   "outputs": [],
   "source": [
    "#look at all pairs\n",
    "np.random.seed(0)\n",
    "AA_pairs=all_dms.mut_type.unique().tolist()\n",
    "pid_for_test=all_dms[all_dms['mut_type_count']==380].pid.unique().tolist()\n",
    "D=[]\n",
    "p=[]\n",
    "sample_size=[]\n",
    "lambda_list=[]\n",
    "mu=[]\n",
    "for ap in AA_pairs:\n",
    "    data = all_dms[all_dms['mut_type']==ap]\n",
    "    data_array=np.array(data.fit_rank.tolist())\n",
    "    sample_size.append(len(data_array))\n",
    "    given_mu=np.mean(data_array)\n",
    "    mu.append(given_mu)\n",
    "    # Extract the lambda parameter that maximizes the likelihood\n",
    "    lmbda_opt = newton(equation, 1, args=(given_mu,))\n",
    "    lambda_list.append(lmbda_opt)\n",
    "    Di,pi=stats.kstest(data_array, truncated_expo_cdf, args=(lmbda_opt,))\n",
    "    D.append(Di)\n",
    "    p.append(pi)"
   ]
  },
  {
   "cell_type": "code",
   "execution_count": 16,
   "id": "a98f68fd",
   "metadata": {},
   "outputs": [],
   "source": [
    "df_MLEfit_plot=pd.DataFrame({'mut_type':AA_pairs, 'D':D, 'p':p, \n",
    "                             'sample_size':sample_size, \n",
    "                             'lmbda':lambda_list,\n",
    "                             'mu':mu})\n",
    "\n",
    "df_MLEfit_plot['Bonferroni_p']=df_MLEfit_plot['p']*380"
   ]
  },
  {
   "cell_type": "code",
   "execution_count": 17,
   "id": "0669be32",
   "metadata": {},
   "outputs": [],
   "source": [
    "#get Tang's U\n",
    "d = {'CYS': 'C', 'ASP': 'D', 'SER': 'S', 'GLN': 'Q', 'LYS': 'K',\n",
    "     'ILE': 'I', 'PRO': 'P', 'THR': 'T', 'PHE': 'F', 'ASN': 'N', \n",
    "     'GLY': 'G', 'HIS': 'H', 'LEU': 'L', 'ARG': 'R', 'TRP': 'W', \n",
    "     'ALA': 'A', 'VAL':'V', 'GLU': 'E', 'TYR': 'Y', 'MET': 'M'}"
   ]
  },
  {
   "cell_type": "code",
   "execution_count": 18,
   "id": "ec23d9e3",
   "metadata": {},
   "outputs": [],
   "source": [
    "aa_reachable=pd.read_csv('../Data/Mutally_reachable_aa.csv')\n",
    "aa_reachable=aa_reachable[['AA1','AA2','U (Universal EI)']]\n",
    "aa_reachable.columns=['AA1','AA2','U']"
   ]
  },
  {
   "cell_type": "code",
   "execution_count": 19,
   "id": "e6a20899",
   "metadata": {},
   "outputs": [],
   "source": [
    "aa_reachable['AA1']=aa_reachable['AA1'].str.upper()\n",
    "\n",
    "aa_reachable['AA2']=aa_reachable['AA2'].str.upper()\n",
    "\n",
    "AA1=aa_reachable.AA1.tolist()\n",
    "AA2=aa_reachable.AA2.tolist()\n",
    "aa1=[]\n",
    "aa2=[]\n",
    "for i in range(len(AA1)):\n",
    "    aa1.append(d[AA1[i]])\n",
    "    aa2.append(d[AA2[i]])\n",
    "aa_reachable['aa1']=aa1\n",
    "aa_reachable['aa2']=aa2\n",
    "\n",
    "aa_reachable['pair1']=aa_reachable['aa1']+aa_reachable['aa2']\n",
    "aa_reachable['pair2']=aa_reachable['aa2']+aa_reachable['aa1']\n",
    "\n",
    "#df_MLEfit_plot['dms_exchange']=1-truncated_expo_cdf(0.5,df_MLEfit_plot['lmbda'])\n",
    "df_MLEfit_plot['dms_exchange']=truncated_expo_pdf(1,df_MLEfit_plot['lmbda'])\n",
    "\n",
    "aa_reachable=aa_reachable.merge(df_MLEfit_plot[['mut_type','dms_exchange','mu']],\n",
    "                                how='left',left_on='pair1',right_on='mut_type')\n",
    "\n",
    "aa_reachable=aa_reachable.drop(columns='mut_type')\n",
    "aa_reachable=aa_reachable.rename(columns={'dms_exchange':'Q12',\n",
    "                                          'mu':'mu12'})"
   ]
  },
  {
   "cell_type": "code",
   "execution_count": 20,
   "id": "7b5c62ff",
   "metadata": {},
   "outputs": [],
   "source": [
    "aa_reachable=aa_reachable.merge(df_MLEfit_plot[['mut_type','dms_exchange','mu']],\n",
    "                                how='left',left_on='pair2',right_on='mut_type')\n",
    "\n",
    "aa_reachable=aa_reachable.drop(columns='mut_type')\n",
    "aa_reachable=aa_reachable.rename(columns={'dms_exchange':'Q21',\n",
    "                                          'mu':'mu21'})\n",
    "aa_reachable['predictU']=(aa_reachable['Q12']*aa_reachable['Q21'])/(aa_reachable['Q12']+aa_reachable['Q21'])\n",
    "aa_reachable['predictU']=aa_reachable['predictU']/(aa_reachable['predictU'].mean())\n",
    "aa_reachable['U']=aa_reachable['U']/(aa_reachable['U'].mean())\n"
   ]
  },
  {
   "cell_type": "code",
   "execution_count": 21,
   "id": "305dfa4f",
   "metadata": {},
   "outputs": [
    {
     "data": {
      "text/plain": [
       "SpearmanrResult(correlation=0.8470670259405958, pvalue=9.98919618370427e-22)"
      ]
     },
     "execution_count": 21,
     "metadata": {},
     "output_type": "execute_result"
    }
   ],
   "source": [
    "stats.spearmanr(aa_reachable['U'],\n",
    "                aa_reachable['predictU'])"
   ]
  },
  {
   "cell_type": "code",
   "execution_count": 22,
   "id": "3ae3b5a1",
   "metadata": {},
   "outputs": [
    {
     "data": {
      "text/plain": [
       "(0.860135767191748, 4.8852135709969523e-23)"
      ]
     },
     "execution_count": 22,
     "metadata": {},
     "output_type": "execute_result"
    }
   ],
   "source": [
    "stats.pearsonr(aa_reachable['U'],\n",
    "               aa_reachable['predictU'])"
   ]
  },
  {
   "cell_type": "code",
   "execution_count": 23,
   "id": "933e6225",
   "metadata": {},
   "outputs": [
    {
     "name": "stdout",
     "output_type": "stream",
     "text": [
      "Mean Squared Error: 0.09453764166529027\n"
     ]
    }
   ],
   "source": [
    "x_values=np.array(aa_reachable['predictU'].tolist())\n",
    "y_values=np.array(aa_reachable['U'].tolist())\n",
    "# Calculate y_pred based on y=x\n",
    "y_pred = x_values  # since y = x\n",
    "\n",
    "# Calculate y_pred based on y=x\n",
    "y_pred = x_values  # since y = x\n",
    "\n",
    "# Calculate MSE\n",
    "MSE = np.mean((y_values - y_pred) ** 2)\n",
    "\n",
    "print(\"Mean Squared Error:\", MSE)"
   ]
  },
  {
   "cell_type": "code",
   "execution_count": 24,
   "id": "3bee03c7",
   "metadata": {},
   "outputs": [
    {
     "data": {
      "image/png": "[encoded data removed]",
      "text/plain": [
       "<Figure size 720x720 with 1 Axes>"
      ]
     },
     "metadata": {
      "needs_background": "light"
     },
     "output_type": "display_data"
    }
   ],
   "source": [
    "# Create the scatter plot using DataFrame columns directly\n",
    "plt.figure(figsize=(10, 10))\n",
    "plt.scatter(aa_reachable['predictU'], aa_reachable['U'], color=colors['black'],s=100)\n",
    "# Draw a horizontal line at y=0.15\n",
    "plt.plot(aa_reachable['predictU'], aa_reachable['predictU'], linestyle='-',color=colors['black'],linewidth=5) \n",
    "\n",
    "\n",
    "# Setting the title and labels\n",
    "\n",
    "plt.xlabel('Predicted Tang\\'s U',fontsize=30,labelpad=20)\n",
    "plt.ylabel('Tang\\'s U',fontsize=30,labelpad=20)\n",
    "plt.xticks(fontsize=30)        # Adjust tick label size\n",
    "plt.yticks(fontsize=30)\n",
    "#plt.legend()\n",
    "plt.grid(False)\n",
    "#plt.gca().set_facecolor(colors['light_gray'])\n",
    "#plt.legend(fontsize=30)\n",
    "#plt.box(False)\n",
    "# Display the plot\n",
    "ax = plt.gca()  # Get the current Axes instance\n",
    "ax.spines['right'].set_visible(False)\n",
    "ax.spines['top'].set_visible(False)\n",
    "ax.spines['left'].set_linewidth(5)  # Thicker y-axis\n",
    "ax.spines['bottom'].set_linewidth(5)  # Thicker x-axis\n",
    "# Make ticks thicker, longer, and pointing inward\n",
    "ax.tick_params(axis='both', direction='out', length=10, width=3, labelsize=30)\n",
    "plt.show()"
   ]
  },
  {
   "cell_type": "code",
   "execution_count": null,
   "id": "e1e3f7d8",
   "metadata": {},
   "outputs": [],
   "source": []
  }
 ],
 "metadata": {
  "kernelspec": {
   "display_name": "Anaconda3 (Python 3.7.6)",
   "language": "python",
   "name": "anaconda3_2020.02"
  },
  "language_info": {
   "codemirror_mode": {
    "name": "ipython",
    "version": 3
   },
   "file_extension": ".py",
   "mimetype": "text/x-python",
   "name": "python",
   "nbconvert_exporter": "python",
   "pygments_lexer": "ipython3",
   "version": "3.7.6"
  }
 },
 "nbformat": 4,
 "nbformat_minor": 5
}
