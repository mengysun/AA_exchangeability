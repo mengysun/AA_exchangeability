{
 "cells": [
  {
   "cell_type": "code",
   "execution_count": 1,
   "id": "0b62bfbc",
   "metadata": {},
   "outputs": [],
   "source": [
    "import pandas as pd\n",
    "import re\n",
    "import glob\n",
    "import os\n",
    "from scipy import stats\n",
    "import numpy as np\n",
    "from scipy.optimize import minimize \n",
    "import matplotlib.pyplot as plt\n",
    "import seaborn as sns"
   ]
  },
  {
   "cell_type": "code",
   "execution_count": 2,
   "id": "3122bce1",
   "metadata": {},
   "outputs": [],
   "source": [
    "colors = {\n",
    "        \"dark_purple\": \"#5F2E88\",\n",
    "        \"purple\": \"#7E59A2\",\n",
    "        \"light_purple\": \"#A17DB8\",\n",
    "        \"pale_purple\": \"#dfd6e5\",\n",
    "        \"dark_orange\": \"#F38227\",\n",
    "        \"orange\": \"#E39943\",\n",
    "        \"light_orange\": \"#EEBA7F\",\n",
    "        \"pale_orange\": \"#f2d4b6\",\n",
    "        \"dark_blue\": \"#3F60AC\",\n",
    "        \"blue\": \"#7292C7\",\n",
    "        \"light_blue\": \"#A5B3CC\",\n",
    "        \"pale_blue\": \"#dae4f1\",\n",
    "        \"dark_red\": \"#9C372F\",\n",
    "        \"red\": \"#C76A6A\",\n",
    "        \"light_red\": \"#E39C9D\",\n",
    "        \"pale_red\": \"#edcccc\",\n",
    "        \"dark_green\": \"#395A34\",\n",
    "        \"green\": \"#688A2F\",\n",
    "        \"light_green\": \"#B3CD86\",\n",
    "        \"pale_green\": \"#d8e2c3\",\n",
    "        \"dark_brown\": \"#764f2a\",\n",
    "        \"brown\": \"#c2996c\",\n",
    "        \"light_brown\": \"#e1bb96\",\n",
    "        \"pale_brown\": \"#efccaf\",\n",
    "        \"black\": \"#444147\",\n",
    "        \"light_grey\": \"#EFEFEF\",\n",
    "        \"light_gray\": \"#EFEFEF\",\n",
    "        \"grey\": \"#6D6F72\",\n",
    "        \"gray\": \"#6D6F72\",\n",
    "}"
   ]
  },
  {
   "cell_type": "code",
   "execution_count": 3,
   "id": "4c609ed1",
   "metadata": {},
   "outputs": [],
   "source": [
    "d = {'CYS': 'C', 'ASP': 'D', 'SER': 'S', 'GLN': 'Q', 'LYS': 'K',\n",
    "     'ILE': 'I', 'PRO': 'P', 'THR': 'T', 'PHE': 'F', 'ASN': 'N', \n",
    "     'GLY': 'G', 'HIS': 'H', 'LEU': 'L', 'ARG': 'R', 'TRP': 'W', \n",
    "     'ALA': 'A', 'VAL':'V', 'GLU': 'E', 'TYR': 'Y', 'MET': 'M'}\n",
    "d2=dict((v, k) for k, v in d.items())"
   ]
  },
  {
   "cell_type": "code",
   "execution_count": 4,
   "id": "e5d37b36",
   "metadata": {},
   "outputs": [],
   "source": [
    "#read in all deep mutational files\n",
    "path = '../Data/ProteinGym_substitutions/'\n",
    "DMS_files=glob.glob(os.path.join(path, '*.csv'))\n",
    "\n",
    "all_dms=[]\n",
    "i=0\n",
    "for f in DMS_files:\n",
    "    dms=pd.read_csv(f)\n",
    "    dms['mut_type']=dms['mutant'].str.replace('\\d+','')\n",
    "    dms['mut_type_len']=dms['mut_type'].str.len()\n",
    "    dms=dms[dms['mut_type_len']==2]\n",
    "    dms['fit_rank']=dms['DMS_score'].rank(pct=True)\n",
    "    dms['pid']=i\n",
    "    most_ties_number=pd.DataFrame(dms.DMS_score.value_counts()).reset_index()['index'][0]\n",
    "    dms['f_ties']=np.mean(dms['DMS_score']==most_ties_number)\n",
    "    dms['size']=len(dms)\n",
    "    dms['mut_type_count']=len(dms.mut_type.unique().tolist())\n",
    "    all_dms.append(dms)\n",
    "    i=i+1\n",
    "all_dms=pd.concat(all_dms)"
   ]
  },
  {
   "cell_type": "code",
   "execution_count": 5,
   "id": "d2160903",
   "metadata": {},
   "outputs": [],
   "source": [
    "#pre-process data frame\n",
    "AA_list=['ARG','LYS','GLN','GLU','ASP',\n",
    "         'ASN','HIS','SER','THR','ALA',\n",
    "         'VAL','ILE','LEU','MET','PRO',\n",
    "         'GLY','TYR','PHE','TRP','CYS']\n",
    "aa_list=[d[a] for a in AA_list]"
   ]
  },
  {
   "cell_type": "code",
   "execution_count": 6,
   "id": "344d1130",
   "metadata": {},
   "outputs": [],
   "source": [
    "all_dms['AA1']=all_dms['mut_type'].str[0]\n",
    "all_dms['AA2']=all_dms['mut_type'].str[1]"
   ]
  },
  {
   "cell_type": "code",
   "execution_count": 7,
   "id": "81f370eb",
   "metadata": {},
   "outputs": [],
   "source": [
    "D_uniform=[]\n",
    "p_uniform=[]\n",
    "D_symmetry=[]\n",
    "p_symmetry=[]\n",
    "monotonic_r=[]\n",
    "#grid plot\n",
    "y_max_lim=[]\n",
    "uniform_count=0\n",
    "aa_pair=[]\n",
    "for i in range(20):\n",
    "    for j in range(20):\n",
    "        if i!=j:\n",
    "            data = all_dms[(all_dms['AA1']==aa_list[i])&(all_dms['AA2']==aa_list[j])]\n",
    "            aa_pair.append(aa_list[i]+'-'+aa_list[j])\n",
    "            #fit to get the lambda\n",
    "            np.random.seed(0)\n",
    "            data_array = np.array(data.fit_rank.tolist())\n",
    "            counts, bins = np.histogram(data_array, bins=10, density=True)\n",
    "            bins = bins[:-1]  # Removing the last bin edge\n",
    "            monotonic_r.append(stats.spearmanr(counts,bins)[0])\n",
    "            D,p=stats.kstest(data_array,stats.uniform.cdf)\n",
    "            D_uniform.append(D)\n",
    "            p_uniform.append(p)\n",
    "            data_ji=all_dms[(all_dms['AA1']==aa_list[j])&(all_dms['AA2']==aa_list[i])]\n",
    "            data_ji=np.array(data_ji.fit_rank.tolist())\n",
    "            D2,p2=stats.ks_2samp(data_array,data_ji)\n",
    "            D_symmetry.append(D2)\n",
    "            p_symmetry.append(p2)\n"
   ]
  },
  {
   "cell_type": "code",
   "execution_count": 8,
   "id": "5dba783c",
   "metadata": {},
   "outputs": [],
   "source": [
    "df_uniform_symmetry=pd.DataFrame({'AA_pair':aa_pair,\n",
    "                                  'D_uniform':D_uniform,\n",
    "                                  'p_uniform':p_uniform,\n",
    "                                  'D_symmetry':D_symmetry,\n",
    "                                  'p_symmetry':p_symmetry,\n",
    "                                  'monotonic_r':monotonic_r})\n",
    "df_uniform_symmetry['monotonic_r']=abs(df_uniform_symmetry['monotonic_r'])"
   ]
  },
  {
   "cell_type": "code",
   "execution_count": 9,
   "id": "030dd6fa",
   "metadata": {},
   "outputs": [
    {
     "data": {
      "image/png": "[encoded data removed]",
      "text/plain": [
       "<Figure size 720x432 with 1 Axes>"
      ]
     },
     "metadata": {},
     "output_type": "display_data"
    }
   ],
   "source": [
    "#FigS2a\n",
    "plt.figure(figsize=(10, 6), facecolor='white')  # Adjust size and background color\n",
    "result = plt.hist(D_uniform, bins=30, color=colors['gray'], edgecolor='k', alpha=0.65)\n",
    "plt.axvline(np.median(D_uniform), color=colors['black'], linestyle='solid', linewidth=5)\n",
    "plt.xlabel('KS-statistics between\\n uniform distribution and observed DFEs',fontsize=20,labelpad=20)  # X-axis label\n",
    "plt.ylabel('Frequency',fontsize=20,labelpad=20)        # Y-axis label\n",
    "plt.xticks(fontsize=20)        # Adjust tick label size\n",
    "plt.yticks(fontsize=20)\n",
    "ax = plt.gca()  # Get the current Axes instance\n",
    "ax.spines['right'].set_visible(False)\n",
    "ax.spines['top'].set_visible(False)\n",
    "ax.spines['left'].set_linewidth(5)  # Thicker y-axis\n",
    "ax.spines['bottom'].set_linewidth(5)  # Thicker x-axis\n",
    "ax.tick_params(axis='both', direction='out', length=10, width=3, labelsize=20)"
   ]
  },
  {
   "cell_type": "code",
   "execution_count": 10,
   "id": "de4eaaf3",
   "metadata": {},
   "outputs": [
    {
     "data": {
      "image/png": "[encoded data removed]",
      "text/plain": [
       "<Figure size 720x432 with 1 Axes>"
      ]
     },
     "metadata": {},
     "output_type": "display_data"
    }
   ],
   "source": [
    "#FigS2b\n",
    "plt.figure(figsize=(10, 6), facecolor='white')  # Adjust size and background color\n",
    "r_list=df_uniform_symmetry[df_uniform_symmetry['p_uniform']<(0.05/380)].monotonic_r.tolist()\n",
    "result = plt.hist(r_list, bins=30, color=colors['gray'], edgecolor='k', alpha=0.65)\n",
    "plt.axvline(np.median(r_list), color=colors['black'], linestyle='solid', linewidth=5)\n",
    "plt.xlabel('Absolute Value of Spearman Correlation Coefficient\\nbetween bin order and bin counts',\n",
    "           fontsize=20,labelpad=20)  # X-axis label\n",
    "plt.ylabel('Frequency',fontsize=20,labelpad=20)          # Y-axis label\n",
    "plt.xticks(fontsize=20)          # Adjust tick label size\n",
    "plt.yticks(fontsize=20)\n",
    "ax = plt.gca()  # Get the current Axes instance\n",
    "ax.spines['right'].set_visible(False)\n",
    "ax.spines['top'].set_visible(False)\n",
    "ax.spines['left'].set_linewidth(5)  # Thicker y-axis\n",
    "ax.spines['bottom'].set_linewidth(5)  # Thicker x-axis\n",
    "ax.tick_params(axis='both', direction='out', length=10, width=3, labelsize=20)"
   ]
  },
  {
   "cell_type": "code",
   "execution_count": 11,
   "id": "0535fea7",
   "metadata": {},
   "outputs": [
    {
     "data": {
      "text/plain": [
       "0.133380168911736"
      ]
     },
     "execution_count": 11,
     "metadata": {},
     "output_type": "execute_result"
    }
   ],
   "source": [
    "df_uniform_symmetry.D_uniform.median()"
   ]
  },
  {
   "cell_type": "code",
   "execution_count": 12,
   "id": "def4f411",
   "metadata": {},
   "outputs": [
    {
     "data": {
      "text/plain": [
       "92"
      ]
     },
     "execution_count": 12,
     "metadata": {},
     "output_type": "execute_result"
    }
   ],
   "source": [
    "sum((df_uniform_symmetry['p_uniform']*380)>0.05)"
   ]
  },
  {
   "cell_type": "code",
   "execution_count": 13,
   "id": "37f10b97",
   "metadata": {},
   "outputs": [
    {
     "data": {
      "text/plain": [
       "0.24210526315789474"
      ]
     },
     "execution_count": 13,
     "metadata": {},
     "output_type": "execute_result"
    }
   ],
   "source": [
    "sum((df_uniform_symmetry['p_uniform']*380)>0.05)/380"
   ]
  },
  {
   "cell_type": "code",
   "execution_count": 14,
   "id": "20b9e9a5",
   "metadata": {},
   "outputs": [
    {
     "data": {
      "text/plain": [
       "0.9118583155200968"
      ]
     },
     "execution_count": 14,
     "metadata": {},
     "output_type": "execute_result"
    }
   ],
   "source": [
    "df_uniform_symmetry[df_uniform_symmetry['p_uniform']<(0.05/380)].monotonic_r.median()"
   ]
  },
  {
   "cell_type": "code",
   "execution_count": 15,
   "id": "74d7420e",
   "metadata": {},
   "outputs": [
    {
     "data": {
      "text/plain": [
       "268"
      ]
     },
     "execution_count": 15,
     "metadata": {},
     "output_type": "execute_result"
    }
   ],
   "source": [
    "sum((df_uniform_symmetry['p_symmetry']*380)<0.05)"
   ]
  },
  {
   "cell_type": "code",
   "execution_count": 16,
   "id": "e6b6da98",
   "metadata": {},
   "outputs": [
    {
     "data": {
      "text/plain": [
       "0.7052631578947368"
      ]
     },
     "execution_count": 16,
     "metadata": {},
     "output_type": "execute_result"
    }
   ],
   "source": [
    "sum((df_uniform_symmetry['p_symmetry']*380)<0.05)/380"
   ]
  },
  {
   "cell_type": "code",
   "execution_count": null,
   "id": "74e280b9",
   "metadata": {},
   "outputs": [],
   "source": []
  }
 ],
 "metadata": {
  "kernelspec": {
   "display_name": "Anaconda3 (Python 3.7.6)",
   "language": "python",
   "name": "anaconda3_2020.02"
  },
  "language_info": {
   "codemirror_mode": {
    "name": "ipython",
    "version": 3
   },
   "file_extension": ".py",
   "mimetype": "text/x-python",
   "name": "python",
   "nbconvert_exporter": "python",
   "pygments_lexer": "ipython3",
   "version": "3.7.6"
  }
 },
 "nbformat": 4,
 "nbformat_minor": 5
}
